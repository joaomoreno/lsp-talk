{
 "cells": [
  {
   "cell_type": "markdown",
   "metadata": {},
   "source": [
    "<center style=\"font-size: 1.5em\">\r\n",
    "\r\n",
    "<p style=\"font-size: 2em\">👋 Olá</p>\r\n",
    "\r\n",
    "<img src=\"https://en.gravatar.com/userimage/16041/40a9e40179c27c3c5f67849051d4c40d.jpg?size=200\" style=\"border-radius: 20px\">\r\n",
    "\r\n",
    "<p>\r\n",
    "<b>João Moreno</b>\r\n",
    "<br/>\r\n",
    "<i>Senior SDE, Microsoft</i>\r\n",
    "<br/>\r\n",
    "<i>🔨 Developer Tools</i>\r\n",
    "<p>\r\n",
    "\r\n",
    "</center>\r\n",
    "\r\n"
   ]
  },
  {
   "cell_type": "markdown",
   "metadata": {},
   "source": [
    "<center style=\"font-size: 1.5em\">\r\n",
    "\r\n",
    "<p style=\"font-size: 2em\">VS Code</p>\r\n",
    "\r\n",
    "<img width=\"800\" src=\"https://code.visualstudio.com/assets/home/home-screenshot-win.png\">\r\n",
    "\r\n",
    "</center>"
   ]
  },
  {
   "cell_type": "markdown",
   "metadata": {},
   "source": [
    "<center>\r\n",
    "\r\n",
    "<p style=\"font-size: 3em\">Equipa</p>\r\n",
    "\r\n",
    "</center>"
   ]
  },
  {
   "cell_type": "code",
   "execution_count": null,
   "metadata": {},
   "outputs": [],
   "source": [
    "_ = require('./lib');\r\n",
    "team = require('./team.json');\r\n",
    "\r\n",
    "_.render(team)\r\n",
    "// _.renderRoles(team)\r\n",
    "// _.renderFlags(team)"
   ]
  },
  {
   "cell_type": "markdown",
   "metadata": {},
   "source": [
    "# Developer Tools\r\n",
    "\r\n",
    "<div style=\"font-size: 1.5em; line-height: 2em\">\r\n",
    "\r\n",
    "- Cada ferramenta com o seu propósito\r\n",
    "- Cada linguagem com a sua ferramenta indicada\r\n",
    "- Cada programador com a sua ferramenta preferida\r\n",
    "\r\n",
    "- Developer Tools?\r\n",
    "\r\n",
    "<center><code style=\"padding: 0.2em 0.5em; border-radius: 10px; border: 2px solid #999;\">O(Editores * Linguagens)</code></center>\r\n",
    "\r\n",
    "- Language Servers 💡\r\n",
    "- Mais e mais language servers: OmniSharp, TypeScript, etc\r\n",
    "- Mais e mais trabalho para o VS Code...\r\n",
    "\r\n",
    "</div>"
   ]
  },
  {
   "cell_type": "markdown",
   "metadata": {},
   "source": [
    "# Language Server Protocol (2016)\r\n",
    "\r\n",
    "<div style=\"font-size: 1.5em; line-height: 2em\">\r\n",
    "\r\n",
    "> Criar um standard para a comunicação entre editores e language servers\r\n",
    "\r\n",
    "<center style=\"margin-top: 2em;\">\r\n",
    "<img width=\"800\" src=\"https://code.visualstudio.com/assets/api/language-extensions/language-server-extension-guide/lsp-languages-editors.png\">\r\n",
    "</center>\r\n",
    "\r\n",
    "\r\n",
    "- Baseado no LS de TypeScript: JSON-RPC\r\n",
    "- Generalizado, neutro em relação a linguagens & editores\r\n",
    "\r\n",
    "<center><code style=\"padding: 0.2em 0.5em; border-radius: 10px; border: 2px solid #999;\">O(Editores + Linguagens)</code></center>\r\n",
    "\r\n",
    "- Out in the wild\r\n",
    "\r\n",
    "</div>"
   ]
  },
  {
   "cell_type": "code",
   "execution_count": 2,
   "metadata": {},
   "outputs": [],
   "source": [
    "// LSP fiddle"
   ]
  },
  {
   "cell_type": "markdown",
   "metadata": {},
   "source": [
    "# Language Server Index Format (2019)\r\n",
    "\r\n",
    "<div style=\"font-size: 1.5em; line-height: 2em\">\r\n",
    "\r\n",
    "- Hipótese: Como programadores, lemos mais código do que escrevemos\r\n",
    "- Documentação? GitHub?\r\n",
    "\r\n",
    "### LSIF\r\n",
    "\r\n",
    "> Criar um standard para a definição estática de language features dum snapshot de código\r\n",
    "\r\n",
    "- Formato baseado em JSON, optimizado para streaming\r\n",
    "\r\n",
    "</div>"
   ]
  },
  {
   "cell_type": "code",
   "execution_count": 1,
   "metadata": {},
   "outputs": [],
   "source": [
    "// LSIF fiddle"
   ]
  },
  {
   "cell_type": "markdown",
   "metadata": {},
   "source": [
    "# Próximos Passos\r\n",
    "\r\n",
    "<div style=\"font-size: 1.5em; line-height: 2em\">\r\n",
    "\r\n",
    "\r\n",
    "</div>"
   ]
  }
 ],
 "metadata": {
  "kernelspec": {
   "display_name": "Javascript (Node.js)",
   "language": "javascript",
   "name": "javascript"
  },
  "language_info": {
   "file_extension": ".js",
   "mimetype": "application/javascript",
   "name": "javascript",
   "version": "12.20.0"
  },
  "orig_nbformat": 2
 },
 "nbformat": 4,
 "nbformat_minor": 2
}