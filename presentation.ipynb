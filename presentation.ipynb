{
 "cells": [
  {
   "cell_type": "markdown",
   "metadata": {},
   "source": [
    "<center style=\"font-size: 1.5em\">\r\n",
    "\r\n",
    "# 👋 Olá\r\n",
    "\r\n",
    "<img src=\"https://en.gravatar.com/userimage/16041/40a9e40179c27c3c5f67849051d4c40d.jpg?size=200\" style=\"border-radius: 20px\">\r\n",
    "\r\n",
    "<p>\r\n",
    "<b>João Moreno</b>\r\n",
    "<br\r\n",
    "<i>Senior SDE, Microsoft</i>\r\n",
    "<br/>\r\n",
    "<i>🔨 Developer Tools</i>\r\n",
    "<p>\r\n",
    "\r\n",
    "</center>\r\n",
    "\r\n"
   ]
  },
  {
   "cell_type": "markdown",
   "metadata": {},
   "source": [
    "<center style=\"font-size: 1.5em\">\r\n",
    "\r\n",
    "# VS Code\r\n",
    "\r\n",
    "<img width=\"800\" src=\"https://code.visualstudio.com/assets/home/home-screenshot-win.png\">\r\n",
    "\r\n",
    "</center>"
   ]
  },
  {
   "cell_type": "markdown",
   "metadata": {},
   "source": [
    "<center style=\"font-size: 1.5em\">\r\n",
    "\r\n",
    "# Equipa\r\n",
    "\r\n",
    "</center>"
   ]
  },
  {
   "cell_type": "code",
   "execution_count": null,
   "metadata": {},
   "outputs": [],
   "source": [
    "_ = require('./lib');\r\n",
    "team = require('./team.json');\r\n",
    "\r\n",
    "_.render(team)\r\n",
    "// _.renderRoles(team)\r\n",
    "// _.renderFlags(team)"
   ]
  },
  {
   "cell_type": "markdown",
   "metadata": {},
   "source": [
    "<center style=\"font-size: 1.2em; line-height: 2em\">\r\n",
    "\r\n",
    "# Developer Tools\r\n",
    "\r\n",
    "## Editores\r\n",
    "\r\n",
    "Cada ferramenta com o seu propósito\r\n",
    "\r\n",
    "<center style=\"margin: 2em;\">\r\n",
    "<img width=\"600\" src=\"images/editors.jfif\">\r\n",
    "</center>\r\n",
    "\r\n",
    "## Linguagens\r\n",
    "\r\n",
    "Cada linguagem com a sua ferramenta indicada\r\n",
    "\r\n",
    "<center style=\"margin: 2em;\">\r\n",
    "<img width=\"600\" src=\"images/languages.jpeg\">\r\n",
    "</center>\r\n",
    "\r\n",
    "## Combinações\r\n",
    "\r\n",
    "Cada programador com a sua ferramenta preferida\r\n",
    "\r\n",
    "<center style=\"margin: 2em;\">\r\n",
    "<img width=\"400\" src=\"images/nolsp.png\">\r\n",
    "</center>\r\n",
    "\r\n",
    "<div style=\"margin: 3em 0\">\r\n",
    "<code style=\"font-size: 2em; padding: 0.2em 0.5em; border-radius: 10px; border: 2px solid #999;\">O(Editores * Linguagens)</code>\r\n",
    "</div>\r\n",
    "\r\n",
    "</center>"
   ]
  },
  {
   "cell_type": "markdown",
   "metadata": {},
   "source": [
    "<center style=\"font-size: 1.2em; line-height: 2em\">\r\n",
    "\r\n",
    "# Language Servers\r\n",
    "\r\n",
    "## Compiladores\r\n",
    "\r\n",
    "Análise estática é _cara_\r\n",
    "\r\n",
    "<center style=\"margin: 2em;\">\r\n",
    "<img width=\"600\" src=\"images/slow.jpg\">\r\n",
    "</center>\r\n",
    "\r\n",
    "## Client ↔ Server\r\n",
    "\r\n",
    "Manter um processo vivo, a servir _requests_\r\n",
    "\r\n",
    "<center style=\"margin: 2em;\">\r\n",
    "<img width=\"600\" src=\"images/client-server.png\">\r\n",
    "</center>\r\n",
    "\r\n",
    "## Oldie but goodie\r\n",
    "\r\n",
    "Conceito não é novo\r\n",
    "\r\n",
    "<center style=\"margin: 2em;\">\r\n",
    "<img width=\"300\" src=\"images/emacs.png\">\r\n",
    "<img width=\"300\" src=\"images/vim.png\">\r\n",
    "</center>\r\n",
    "\r\n",
    "\r\n",
    "</center>"
   ]
  },
  {
   "cell_type": "markdown",
   "metadata": {},
   "source": [
    "<center style=\"font-size: 1.2em; line-height: 2em\">\r\n",
    "\r\n",
    "# VS Code\r\n",
    "\r\n",
    "## Omnisharp LS (2014)\r\n",
    "\r\n",
    "<img style=\"margin: 2em;\" width=\"600\" src=\"images/omnisharp.png\">\r\n",
    "\r\n",
    "## TypeScript LS (2015)\r\n",
    "\r\n",
    "<img style=\"margin: 2em;\" width=\"600\" src=\"images/typescript.png\">\r\n",
    "\r\n",
    "</center>"
   ]
  },
  {
   "cell_type": "markdown",
   "metadata": {},
   "source": [
    "<center style=\"font-size: 1.2em; line-height: 2em\">\r\n",
    "\r\n",
    "# Language Server Protocol (2016)\r\n",
    "\r\n",
    "> **Objectivo**: Criar um standard para a comunicação entre editores e language servers\r\n",
    "\r\n",
    "<center style=\"margin: 2em;\">\r\n",
    "<img width=\"400\" src=\"images/lsp.png\">\r\n",
    "</center>\r\n",
    "\r\n",
    "<div style=\"margin: 3em 0\">\r\n",
    "<code style=\"font-size: 2em; padding: 0.2em 0.5em; border-radius: 10px; border: 2px solid #999;\">O(Editores + Linguagens)</code>\r\n",
    "</div>\r\n",
    "\r\n",
    "## Divisão de Responsabilidades\r\n",
    "\r\n",
    "<center style=\"margin: 2em;\">\r\n",
    "<img width=\"800\" src=\"images/each.jfif\">\r\n",
    "</center>\r\n",
    "\r\n",
    "## Baseado em Standards\r\n",
    "\r\n",
    "Protocolo open-source baseado em JSON-RPC\r\n",
    "\r\n",
    "<center style=\"margin: 2em;\">\r\n",
    "<img width=\"500\" src=\"images/json.png\">\r\n",
    "</center>\r\n",
    "\r\n",
    "## Popularidade\r\n",
    "\r\n",
    "<style>\r\n",
    ".tiles{display:flex;margin:1em 0;justify-content:center;}\r\n",
    ".tile{background: #3ac; width: 100px; height: 100px; color: white; font-weight: bold; display: flex;align-items:center;text-align:center;margin-right:1em;padding: 0 0.5em;}</style>\r\n",
    "\r\n",
    "<div class=\"tiles\">\r\n",
    "<a href=\"https://microsoft.github.io/language-server-protocol/implementors/servers/\"><div class=\"tile\">📈 140+ Language Servers</div></a>\r\n",
    "<a href=\"https://microsoft.github.io/language-server-protocol/implementors/tools/\"><div class=\"tile\">💻 35+ Editores</div></a>\r\n",
    "</div>\r\n",
    "\r\n",
    "</div>"
   ]
  },
  {
   "cell_type": "code",
   "execution_count": null,
   "metadata": {},
   "outputs": [],
   "source": [
    "htmlls = require('vscode-html-languageservice');\r\n",
    "\r\n",
    "textdocument = require('vscode-languageserver-textdocument');\r\n",
    "types = require('vscode-languageserver-types');\r\n",
    "\r\n",
    "ls = htmlls.getLanguageService();\r\n",
    "// doc = textdocument.TextDocument.create('mem://file.html', 'html', '', '<h');\r\n",
    "// ls.doComplete(doc, types.Position.create(1, 2), ls.parseHTMLDocument(doc));"
   ]
  },
  {
   "cell_type": "code",
   "execution_count": 49,
   "metadata": {},
   "outputs": [
    {
     "ename": "Error",
     "evalue": "Connection input stream is not set. Use arguments of createConnection or set command line parameters: '--node-ipc', '--stdio' or '--socket={number}'",
     "output_type": "error",
     "traceback": [
      "c:\\Users\\jomo\\Desktop\\lsp talk\\node_modules\\vscode-languageserver\\lib\\node\\main.js:185",
      "        throw new Error('Connection input stream is not set. ' + commandLineMessage);",
      "        ^",
      "",
      "Error: Connection input stream is not set. Use arguments of createConnection or set command line parameters: '--node-ipc', '--stdio' or '--socket={number}'",
      "    at _createConnection (c:\\Users\\jomo\\Desktop\\lsp talk\\node_modules\\vscode-languageserver\\lib\\node\\main.js:185:15)",
      "    at Object.createConnection (c:\\Users\\jomo\\Desktop\\lsp talk\\node_modules\\vscode-languageserver\\lib\\node\\main.js:132:12)",
      "    at evalmachine.<anonymous>:3:4",
      "    at Script.runInThisContext (vm.js:120:18)",
      "    at Object.runInThisContext (vm.js:309:38)",
      "    at run ([eval]:1054:15)",
      "    at onRunRequest ([eval]:888:18)",
      "    at onMessage ([eval]:848:13)",
      "    at process.emit (events.js:314:20)",
      "    at emit (internal/child_process.js:877:12)"
     ]
    }
   ],
   "source": [
    "ls = require('vscode-languageserver');\r\n",
    "\r\n",
    "ls.createConnection()"
   ]
  },
  {
   "cell_type": "markdown",
   "metadata": {},
   "source": [
    "<center style=\"font-size: 1.2em; line-height: 2em\">\r\n",
    "\r\n",
    "# Language Server Index Format (2019)\r\n",
    "\r\n",
    "> Objectivo: Criar um standard para a definição de language features dum snapshot estático de código\r\n",
    "\r\n",
    "&nbsp;\r\n",
    "\r\n",
    "## Hipótese\r\n",
    "\r\n",
    "Como programadores, lemos mais código do que escrevemos\r\n",
    "\r\n",
    "<center style=\"margin: 2em;\">\r\n",
    "<img width=\"500\" src=\"images/github.png\">\r\n",
    "</center>\r\n",
    "\r\n",
    "<center style=\"margin: 2em;\">\r\n",
    "<img width=\"500\" src=\"images/stackoverflow.png\">\r\n",
    "</center>\r\n",
    "\r\n",
    "## LSIF\r\n",
    "\r\n",
    "Grafo de análise estática\r\n",
    "\r\n",
    "<center style=\"margin: 2em;\">\r\n",
    "<img width=\"500\" src=\"images/lsif.png\">\r\n",
    "</center>\r\n",
    "\r\n",
    "\r\n",
    "## Baseado em Standards\r\n",
    "\r\n",
    "Formato open-source baseado em JSON, optimizado para streaming\r\n",
    "\r\n",
    "<center style=\"margin: 2em;\">\r\n",
    "<img width=\"500\" src=\"images/json.png\">\r\n",
    "</center>\r\n",
    "\r\n",
    "</center>"
   ]
  },
  {
   "cell_type": "code",
   "execution_count": 1,
   "metadata": {},
   "outputs": [],
   "source": [
    "// LSIF fiddle"
   ]
  },
  {
   "cell_type": "markdown",
   "metadata": {},
   "source": [
    "<center style=\"font-size: 1.2em; line-height: 2em\">\r\n",
    "\r\n",
    "\r\n",
    "# Próximos Passos\r\n",
    "\r\n",
    "[https://aka.ms/language-server-protocol](https://aka.ms/language-server-protocol)\r\n",
    "\r\n",
    "[https://aka.ms/lsif](https://aka.ms/lsif)\r\n",
    "\r\n",
    "[https://aka.ms/vscode-lsp](https://aka.ms/vscode-lsp)\r\n",
    "\r\n",
    "</center>"
   ]
  },
  {
   "cell_type": "markdown",
   "metadata": {},
   "source": [
    "<center style=\"font-size: 1.2em; line-height: 2em\">\r\n",
    "\r\n",
    "# Obrigado!\r\n",
    "\r\n",
    "<div style=\"font-size: 3em; margin: 2em 0;\">🙏<div>\r\n",
    "\r\n",
    "</center>"
   ]
  }
 ],
 "metadata": {
  "kernelspec": {
   "display_name": "Javascript (Node.js)",
   "language": "javascript",
   "name": "javascript"
  },
  "language_info": {
   "file_extension": ".js",
   "mimetype": "application/javascript",
   "name": "javascript",
   "version": "12.20.0"
  },
  "orig_nbformat": 2
 },
 "nbformat": 4,
 "nbformat_minor": 2
}