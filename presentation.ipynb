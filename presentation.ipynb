{
 "cells": [
  {
   "cell_type": "markdown",
   "metadata": {},
   "source": [
    "<center style=\"font-size: 1.5em\">\r\n",
    "\r\n",
    "<p style=\"font-size: 2em\">👋 Olá</p>\r\n",
    "\r\n",
    "<img src=\"https://en.gravatar.com/userimage/16041/40a9e40179c27c3c5f67849051d4c40d.jpg?size=200\" style=\"border-radius: 20px\">\r\n",
    "\r\n",
    "<p>\r\n",
    "<b>João Moreno</b>\r\n",
    "<br/>\r\n",
    "<i>Senior SDE, Microsoft</i>\r\n",
    "<br/>\r\n",
    "<i>🔨 Developer Tools</i>\r\n",
    "<p>\r\n",
    "\r\n",
    "</center>\r\n",
    "\r\n"
   ]
  },
  {
   "cell_type": "markdown",
   "metadata": {},
   "source": [
    "<center style=\"font-size: 1.5em\">\r\n",
    "\r\n",
    "<p style=\"font-size: 2em\">VS Code</p>\r\n",
    "\r\n",
    "<img src=\"https://code.visualstudio.com/assets/home/home-screenshot-win.png\">\r\n",
    "\r\n",
    "</center>"
   ]
  },
  {
   "cell_type": "markdown",
   "metadata": {},
   "source": [
    "<center>\r\n",
    "\r\n",
    "<p style=\"font-size: 3em\">Equipa</p>\r\n",
    "\r\n",
    "</center>"
   ]
  },
  {
   "cell_type": "code",
   "execution_count": null,
   "metadata": {},
   "outputs": [],
   "source": [
    "render = team => $$.html(`${team.map(member => `<div style=\"display:inline-block;font-size:0.8em;text-align:center;margin:0 0.3em\"><img width=\"100\" src=\"${member.avatar}\"/></br>${member.name.split(' ')[0]}</div>`).join('')}`); undefined;\r\n",
    "renderFlags = team => $$.html([...new Set(team.map(p => p.origin))].map(o => `<img style=\"margin: 0 1em\" height=100 src=\"https://unpkg.com/svg-country-flags@1.2.10/png250px/${o.toLowerCase()}.png\">`)); undefined\r\n",
    "team = require('./team.json')\r\n",
    "\r\n",
    "// render(team)\r\n",
    "// renderFlags(team)"
   ]
  },
  {
   "cell_type": "markdown",
   "metadata": {},
   "source": [
    "# Developer Tools\r\n",
    "\r\n",
    "História\r\n",
    "\r\n",
    "- Cada ferramenta com o seu propósito\r\n",
    "- Cada linguagem com a sua ferramenta\r\n",
    "- Java? Eclipse, C#? Visual Studio, Python? IDLE\r\n",
    "- Editores são como equipas de futebol\r\n",
    "\r\n",
    "Porquê? O investimento é enorme: O(E*L), E = editores, L = linguagens\r\n",
    "\r\n",
    "- vim e emacs já tinham language servers ou daemons\r\n",
    "\r\n",
    "Porquê? Tooling é _caro_.\r\n",
    "\r\n",
    "- OmniSharp e TypeScript: equipas separadas dentro da Microsoft a tentar criar tooling para vários editores. cada um criou o seu language server\r\n",
    "- VS Code teve que adotar cada language server em extensões diferentes\r\n"
   ]
  },
  {
   "cell_type": "markdown",
   "metadata": {},
   "source": [
    "# Language Server Protocol\r\n",
    "\r\n",
    "2016\r\n",
    "\r\n",
    "Motivação:\r\n",
    "\r\n",
    "- Criar um standard para a comunicação entre editores e language servers\r\n",
    "- Reduzir o investimento para O(E + L)\r\n",
    "- Partiu da base criada pela equipa do TypeScript\r\n",
    "- Objectivos: generalizado, neutro em relação a linguagens & editores\r\n",
    "\r\n",
    "LSP:\r\n",
    "\r\n",
    "- Protocolo baseado em JSON-RPC "
   ]
  },
  {
   "cell_type": "markdown",
   "metadata": {},
   "source": [
    "# Language Server Index Format\r\n",
    "\r\n",
    "2019\r\n",
    "\r\n",
    "Motivação:\r\n",
    "\r\n",
    "- \r\n",
    "\r\n",
    "LSIF:\r\n",
    "\r\n",
    "- Formato baseado em JSON"
   ]
  },
  {
   "cell_type": "markdown",
   "metadata": {},
   "source": [
    "# Próximos Passos"
   ]
  }
 ],
 "metadata": {
  "kernelspec": {
   "display_name": "Javascript (Node.js)",
   "language": "javascript",
   "name": "javascript"
  },
  "language_info": {
   "file_extension": ".js",
   "mimetype": "application/javascript",
   "name": "javascript",
   "version": "12.20.0"
  },
  "orig_nbformat": 2
 },
 "nbformat": 4,
 "nbformat_minor": 2
}